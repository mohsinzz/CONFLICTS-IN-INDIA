{
 "cells": [
  {
   "cell_type": "markdown",
   "id": "b8c6d5a0",
   "metadata": {},
   "source": [
    "Installing GEOPY for retriving the data of missing states by using longitude and latidude values"
   ]
  },
  {
   "cell_type": "code",
   "execution_count": 1,
   "id": "3dccff14",
   "metadata": {
    "scrolled": true
   },
   "outputs": [
    {
     "name": "stdout",
     "output_type": "stream",
     "text": [
      "Collecting geopy\n",
      "  Downloading geopy-2.3.0-py3-none-any.whl (119 kB)\n",
      "     -------------------------------------- 119.8/119.8 kB 1.7 MB/s eta 0:00:00\n",
      "Collecting geographiclib<3,>=1.52\n",
      "  Downloading geographiclib-2.0-py3-none-any.whl (40 kB)\n",
      "     -------------------------------------- 40.3/40.3 kB 485.2 kB/s eta 0:00:00\n",
      "Installing collected packages: geographiclib, geopy\n",
      "Successfully installed geographiclib-2.0 geopy-2.3.0\n",
      "Note: you may need to restart the kernel to use updated packages.\n"
     ]
    }
   ],
   "source": [
    "pip install geopy"
   ]
  },
  {
   "cell_type": "code",
   "execution_count": 37,
   "id": "640e1747",
   "metadata": {},
   "outputs": [],
   "source": [
    "from geopy.geocoders import Nominatim"
   ]
  },
  {
   "cell_type": "markdown",
   "id": "0e7409ee",
   "metadata": {},
   "source": [
    "Importing Pandas and Numpy"
   ]
  },
  {
   "cell_type": "code",
   "execution_count": 3,
   "id": "ad10fb31",
   "metadata": {},
   "outputs": [],
   "source": [
    "import pandas as pd"
   ]
  },
  {
   "cell_type": "code",
   "execution_count": 4,
   "id": "e8e3b965",
   "metadata": {},
   "outputs": [],
   "source": [
    "import numpy as np"
   ]
  },
  {
   "cell_type": "markdown",
   "id": "704c46cf",
   "metadata": {},
   "source": [
    "Importing semi-cleaned Data "
   ]
  },
  {
   "cell_type": "code",
   "execution_count": 5,
   "id": "53b1ff01",
   "metadata": {},
   "outputs": [],
   "source": [
    "conflict_data = pd.read_csv('Conflict_data_india_2023.csv')"
   ]
  },
  {
   "cell_type": "code",
   "execution_count": 6,
   "id": "ee6e3ec4",
   "metadata": {},
   "outputs": [
    {
     "data": {
      "text/html": [
       "<div>\n",
       "<style scoped>\n",
       "    .dataframe tbody tr th:only-of-type {\n",
       "        vertical-align: middle;\n",
       "    }\n",
       "\n",
       "    .dataframe tbody tr th {\n",
       "        vertical-align: top;\n",
       "    }\n",
       "\n",
       "    .dataframe thead th {\n",
       "        text-align: right;\n",
       "    }\n",
       "</style>\n",
       "<table border=\"1\" class=\"dataframe\">\n",
       "  <thead>\n",
       "    <tr style=\"text-align: right;\">\n",
       "      <th></th>\n",
       "      <th>YEAR</th>\n",
       "      <th>ACTIVE YEAR</th>\n",
       "      <th>CODE STATUS</th>\n",
       "      <th>TYPE OF VIOLENCE</th>\n",
       "      <th>SIDE A</th>\n",
       "      <th>SIDE B</th>\n",
       "      <th>STATE</th>\n",
       "      <th>LATITUDE</th>\n",
       "      <th>LONGITUDE</th>\n",
       "      <th>NO OF DEATHS FROM SIDE A</th>\n",
       "      <th>NO OF DEATHS FROM SIDE B</th>\n",
       "      <th>NO OF DEATHS OF CIVILIANS</th>\n",
       "      <th>NO OF UNKNOWN DEATHS</th>\n",
       "      <th>TOTAL DEATHS</th>\n",
       "    </tr>\n",
       "  </thead>\n",
       "  <tbody>\n",
       "    <tr>\n",
       "      <th>0</th>\n",
       "      <td>1989</td>\n",
       "      <td>1</td>\n",
       "      <td>Clear</td>\n",
       "      <td>1</td>\n",
       "      <td>Government of India</td>\n",
       "      <td>Government of Pakistan</td>\n",
       "      <td>NaN</td>\n",
       "      <td>32.565</td>\n",
       "      <td>74.676</td>\n",
       "      <td>0</td>\n",
       "      <td>0</td>\n",
       "      <td>0</td>\n",
       "      <td>25</td>\n",
       "      <td>25</td>\n",
       "    </tr>\n",
       "    <tr>\n",
       "      <th>1</th>\n",
       "      <td>1990</td>\n",
       "      <td>1</td>\n",
       "      <td>Clear</td>\n",
       "      <td>1</td>\n",
       "      <td>Government of India</td>\n",
       "      <td>Government of Pakistan</td>\n",
       "      <td>NaN</td>\n",
       "      <td>32.565</td>\n",
       "      <td>74.676</td>\n",
       "      <td>0</td>\n",
       "      <td>0</td>\n",
       "      <td>0</td>\n",
       "      <td>17</td>\n",
       "      <td>17</td>\n",
       "    </tr>\n",
       "    <tr>\n",
       "      <th>2</th>\n",
       "      <td>1990</td>\n",
       "      <td>1</td>\n",
       "      <td>Clear</td>\n",
       "      <td>1</td>\n",
       "      <td>Government of India</td>\n",
       "      <td>Government of Pakistan</td>\n",
       "      <td>NaN</td>\n",
       "      <td>32.565</td>\n",
       "      <td>74.676</td>\n",
       "      <td>1</td>\n",
       "      <td>5</td>\n",
       "      <td>0</td>\n",
       "      <td>0</td>\n",
       "      <td>6</td>\n",
       "    </tr>\n",
       "    <tr>\n",
       "      <th>3</th>\n",
       "      <td>1990</td>\n",
       "      <td>1</td>\n",
       "      <td>Clear</td>\n",
       "      <td>1</td>\n",
       "      <td>Government of India</td>\n",
       "      <td>Government of Pakistan</td>\n",
       "      <td>Jammu and Kashmir</td>\n",
       "      <td>33.770</td>\n",
       "      <td>74.100</td>\n",
       "      <td>0</td>\n",
       "      <td>0</td>\n",
       "      <td>0</td>\n",
       "      <td>0</td>\n",
       "      <td>0</td>\n",
       "    </tr>\n",
       "    <tr>\n",
       "      <th>4</th>\n",
       "      <td>1990</td>\n",
       "      <td>1</td>\n",
       "      <td>Clear</td>\n",
       "      <td>1</td>\n",
       "      <td>Government of India</td>\n",
       "      <td>Government of Pakistan</td>\n",
       "      <td>NaN</td>\n",
       "      <td>32.565</td>\n",
       "      <td>74.676</td>\n",
       "      <td>0</td>\n",
       "      <td>0</td>\n",
       "      <td>0</td>\n",
       "      <td>0</td>\n",
       "      <td>0</td>\n",
       "    </tr>\n",
       "  </tbody>\n",
       "</table>\n",
       "</div>"
      ],
      "text/plain": [
       "   YEAR  ACTIVE YEAR CODE STATUS  TYPE OF VIOLENCE               SIDE A  \\\n",
       "0  1989            1       Clear                 1  Government of India   \n",
       "1  1990            1       Clear                 1  Government of India   \n",
       "2  1990            1       Clear                 1  Government of India   \n",
       "3  1990            1       Clear                 1  Government of India   \n",
       "4  1990            1       Clear                 1  Government of India   \n",
       "\n",
       "                   SIDE B              STATE  LATITUDE  LONGITUDE  \\\n",
       "0  Government of Pakistan                NaN    32.565     74.676   \n",
       "1  Government of Pakistan                NaN    32.565     74.676   \n",
       "2  Government of Pakistan                NaN    32.565     74.676   \n",
       "3  Government of Pakistan  Jammu and Kashmir    33.770     74.100   \n",
       "4  Government of Pakistan                NaN    32.565     74.676   \n",
       "\n",
       "   NO OF DEATHS FROM SIDE A  NO OF DEATHS FROM SIDE B  \\\n",
       "0                         0                         0   \n",
       "1                         0                         0   \n",
       "2                         1                         5   \n",
       "3                         0                         0   \n",
       "4                         0                         0   \n",
       "\n",
       "   NO OF DEATHS OF CIVILIANS  NO OF UNKNOWN DEATHS  TOTAL DEATHS  \n",
       "0                          0                    25            25  \n",
       "1                          0                    17            17  \n",
       "2                          0                     0             6  \n",
       "3                          0                     0             0  \n",
       "4                          0                     0             0  "
      ]
     },
     "execution_count": 6,
     "metadata": {},
     "output_type": "execute_result"
    }
   ],
   "source": [
    "conflict_data.head()"
   ]
  },
  {
   "cell_type": "markdown",
   "id": "f041c11c",
   "metadata": {},
   "source": [
    "Finding out the total number of deaths"
   ]
  },
  {
   "cell_type": "code",
   "execution_count": 8,
   "id": "cc5c20d5",
   "metadata": {},
   "outputs": [
    {
     "data": {
      "text/plain": [
       "58429"
      ]
     },
     "execution_count": 8,
     "metadata": {},
     "output_type": "execute_result"
    }
   ],
   "source": [
    "conflict_data['TOTAL DEATHS'].sum()"
   ]
  },
  {
   "cell_type": "markdown",
   "id": "5c4e4d69",
   "metadata": {},
   "source": [
    "TOTAL number of rows"
   ]
  },
  {
   "cell_type": "code",
   "execution_count": 9,
   "id": "04542992",
   "metadata": {},
   "outputs": [
    {
     "data": {
      "text/plain": [
       "16675"
      ]
     },
     "execution_count": 9,
     "metadata": {},
     "output_type": "execute_result"
    }
   ],
   "source": [
    "conflict_data.shape[0]"
   ]
  },
  {
   "cell_type": "markdown",
   "id": "6badde8a",
   "metadata": {},
   "source": [
    "Replacing the Nan Values in the STATE column with the the help of Latitude and Longitude columns by making a get request "
   ]
  },
  {
   "cell_type": "code",
   "execution_count": 38,
   "id": "002c90a3",
   "metadata": {},
   "outputs": [
    {
     "name": "stderr",
     "output_type": "stream",
     "text": [
      "C:\\Users\\HP\\AppData\\Local\\Temp\\ipykernel_22668\\1341718064.py:8: SettingWithCopyWarning: \n",
      "A value is trying to be set on a copy of a slice from a DataFrame\n",
      "\n",
      "See the caveats in the documentation: https://pandas.pydata.org/pandas-docs/stable/user_guide/indexing.html#returning-a-view-versus-a-copy\n",
      "  conflict_data['STATE'][i]= address.get('state', '')\n"
     ]
    },
    {
     "ename": "AttributeError",
     "evalue": "'NoneType' object has no attribute 'raw'",
     "output_type": "error",
     "traceback": [
      "\u001b[1;31m---------------------------------------------------------------------------\u001b[0m",
      "\u001b[1;31mAttributeError\u001b[0m                            Traceback (most recent call last)",
      "Cell \u001b[1;32mIn[38], line 7\u001b[0m\n\u001b[0;32m      5\u001b[0m long \u001b[38;5;241m=\u001b[39m \u001b[38;5;28mstr\u001b[39m(conflict_data[\u001b[38;5;124m'\u001b[39m\u001b[38;5;124mLONGITUDE\u001b[39m\u001b[38;5;124m'\u001b[39m][i])\n\u001b[0;32m      6\u001b[0m location \u001b[38;5;241m=\u001b[39m geolocator\u001b[38;5;241m.\u001b[39mreverse(lat\u001b[38;5;241m+\u001b[39m\u001b[38;5;124m\"\u001b[39m\u001b[38;5;124m,\u001b[39m\u001b[38;5;124m\"\u001b[39m\u001b[38;5;241m+\u001b[39mlong)\n\u001b[1;32m----> 7\u001b[0m address \u001b[38;5;241m=\u001b[39m \u001b[43mlocation\u001b[49m\u001b[38;5;241;43m.\u001b[39;49m\u001b[43mraw\u001b[49m[\u001b[38;5;124m'\u001b[39m\u001b[38;5;124maddress\u001b[39m\u001b[38;5;124m'\u001b[39m]\n\u001b[0;32m      8\u001b[0m conflict_data[\u001b[38;5;124m'\u001b[39m\u001b[38;5;124mSTATE\u001b[39m\u001b[38;5;124m'\u001b[39m][i]\u001b[38;5;241m=\u001b[39m address\u001b[38;5;241m.\u001b[39mget(\u001b[38;5;124m'\u001b[39m\u001b[38;5;124mstate\u001b[39m\u001b[38;5;124m'\u001b[39m, \u001b[38;5;124m'\u001b[39m\u001b[38;5;124m'\u001b[39m)\n",
      "\u001b[1;31mAttributeError\u001b[0m: 'NoneType' object has no attribute 'raw'"
     ]
    }
   ],
   "source": [
    "geolocator = Nominatim(user_agent=\"forproject\")\n",
    "for i in range(conflict_data.shape[0]):\n",
    "    if conflict_data['STATE'][i] is np.nan:\n",
    "        lat = str(conflict_data['LATITUDE'][i])\n",
    "        long = str(conflict_data['LONGITUDE'][i])\n",
    "        location = geolocator.reverse(lat+\",\"+long)\n",
    "        address = location.raw['address']\n",
    "        conflict_data['STATE'][i]= address.get('state', '')\n"
   ]
  },
  {
   "cell_type": "markdown",
   "id": "df192e80",
   "metadata": {},
   "source": [
    "Rechecking the Nan values in STATE"
   ]
  },
  {
   "cell_type": "code",
   "execution_count": 39,
   "id": "990ca09e",
   "metadata": {},
   "outputs": [
    {
     "data": {
      "text/plain": [
       "YEAR                         0\n",
       "ACTIVE YEAR                  0\n",
       "CODE STATUS                  0\n",
       "TYPE OF VIOLENCE             0\n",
       "SIDE A                       0\n",
       "SIDE B                       0\n",
       "STATE                        7\n",
       "LATITUDE                     0\n",
       "LONGITUDE                    0\n",
       "NO OF DEATHS FROM SIDE A     0\n",
       "NO OF DEATHS FROM SIDE B     0\n",
       "NO OF DEATHS OF CIVILIANS    0\n",
       "NO OF UNKNOWN DEATHS         0\n",
       "TOTAL DEATHS                 0\n",
       "dtype: int64"
      ]
     },
     "execution_count": 39,
     "metadata": {},
     "output_type": "execute_result"
    }
   ],
   "source": [
    "conflict_data.isnull().sum()"
   ]
  },
  {
   "cell_type": "markdown",
   "id": "e1a1bdd3",
   "metadata": {
    "scrolled": true
   },
   "source": [
    "Still 7 Nan values are present\n",
    "        "
   ]
  },
  {
   "cell_type": "code",
   "execution_count": null,
   "id": "a42bccf0",
   "metadata": {},
   "outputs": [],
   "source": []
  },
  {
   "cell_type": "code",
   "execution_count": 61,
   "id": "98dd24a9",
   "metadata": {},
   "outputs": [
    {
     "data": {
      "text/plain": [
       "YEAR                         0\n",
       "ACTIVE YEAR                  0\n",
       "CODE STATUS                  0\n",
       "TYPE OF VIOLENCE             0\n",
       "SIDE A                       0\n",
       "SIDE B                       0\n",
       "STATE                        7\n",
       "LATITUDE                     0\n",
       "LONGITUDE                    0\n",
       "NO OF DEATHS FROM SIDE A     0\n",
       "NO OF DEATHS FROM SIDE B     0\n",
       "NO OF DEATHS OF CIVILIANS    0\n",
       "NO OF UNKNOWN DEATHS         0\n",
       "TOTAL DEATHS                 0\n",
       "dtype: int64"
      ]
     },
     "execution_count": 61,
     "metadata": {},
     "output_type": "execute_result"
    }
   ],
   "source": [
    "conflict_data.isnull().sum()"
   ]
  },
  {
   "cell_type": "markdown",
   "id": "10becd2c",
   "metadata": {},
   "source": [
    "The total deaths for these Nan values are insignificant. So we can drop the rows having STATE as NAN"
   ]
  },
  {
   "cell_type": "code",
   "execution_count": 65,
   "id": "9ad90ef3",
   "metadata": {},
   "outputs": [
    {
     "data": {
      "text/html": [
       "<div>\n",
       "<style scoped>\n",
       "    .dataframe tbody tr th:only-of-type {\n",
       "        vertical-align: middle;\n",
       "    }\n",
       "\n",
       "    .dataframe tbody tr th {\n",
       "        vertical-align: top;\n",
       "    }\n",
       "\n",
       "    .dataframe thead th {\n",
       "        text-align: right;\n",
       "    }\n",
       "</style>\n",
       "<table border=\"1\" class=\"dataframe\">\n",
       "  <thead>\n",
       "    <tr style=\"text-align: right;\">\n",
       "      <th></th>\n",
       "      <th>YEAR</th>\n",
       "      <th>ACTIVE YEAR</th>\n",
       "      <th>CODE STATUS</th>\n",
       "      <th>TYPE OF VIOLENCE</th>\n",
       "      <th>SIDE A</th>\n",
       "      <th>SIDE B</th>\n",
       "      <th>STATE</th>\n",
       "      <th>LATITUDE</th>\n",
       "      <th>LONGITUDE</th>\n",
       "      <th>NO OF DEATHS FROM SIDE A</th>\n",
       "      <th>NO OF DEATHS FROM SIDE B</th>\n",
       "      <th>NO OF DEATHS OF CIVILIANS</th>\n",
       "      <th>NO OF UNKNOWN DEATHS</th>\n",
       "      <th>TOTAL DEATHS</th>\n",
       "    </tr>\n",
       "  </thead>\n",
       "  <tbody>\n",
       "    <tr>\n",
       "      <th>0</th>\n",
       "      <td>1989</td>\n",
       "      <td>1</td>\n",
       "      <td>Clear</td>\n",
       "      <td>1</td>\n",
       "      <td>Government of India</td>\n",
       "      <td>Government of Pakistan</td>\n",
       "      <td>Jammu and Kashmir</td>\n",
       "      <td>32.565000</td>\n",
       "      <td>74.676000</td>\n",
       "      <td>0</td>\n",
       "      <td>0</td>\n",
       "      <td>0</td>\n",
       "      <td>25</td>\n",
       "      <td>25</td>\n",
       "    </tr>\n",
       "    <tr>\n",
       "      <th>1</th>\n",
       "      <td>1990</td>\n",
       "      <td>1</td>\n",
       "      <td>Clear</td>\n",
       "      <td>1</td>\n",
       "      <td>Government of India</td>\n",
       "      <td>Government of Pakistan</td>\n",
       "      <td>Jammu and Kashmir</td>\n",
       "      <td>32.565000</td>\n",
       "      <td>74.676000</td>\n",
       "      <td>0</td>\n",
       "      <td>0</td>\n",
       "      <td>0</td>\n",
       "      <td>17</td>\n",
       "      <td>17</td>\n",
       "    </tr>\n",
       "    <tr>\n",
       "      <th>2</th>\n",
       "      <td>1990</td>\n",
       "      <td>1</td>\n",
       "      <td>Clear</td>\n",
       "      <td>1</td>\n",
       "      <td>Government of India</td>\n",
       "      <td>Government of Pakistan</td>\n",
       "      <td>Jammu and Kashmir</td>\n",
       "      <td>32.565000</td>\n",
       "      <td>74.676000</td>\n",
       "      <td>1</td>\n",
       "      <td>5</td>\n",
       "      <td>0</td>\n",
       "      <td>0</td>\n",
       "      <td>6</td>\n",
       "    </tr>\n",
       "    <tr>\n",
       "      <th>3</th>\n",
       "      <td>1990</td>\n",
       "      <td>1</td>\n",
       "      <td>Clear</td>\n",
       "      <td>1</td>\n",
       "      <td>Government of India</td>\n",
       "      <td>Government of Pakistan</td>\n",
       "      <td>Jammu and Kashmir</td>\n",
       "      <td>33.770000</td>\n",
       "      <td>74.100000</td>\n",
       "      <td>0</td>\n",
       "      <td>0</td>\n",
       "      <td>0</td>\n",
       "      <td>0</td>\n",
       "      <td>0</td>\n",
       "    </tr>\n",
       "    <tr>\n",
       "      <th>4</th>\n",
       "      <td>1990</td>\n",
       "      <td>1</td>\n",
       "      <td>Clear</td>\n",
       "      <td>1</td>\n",
       "      <td>Government of India</td>\n",
       "      <td>Government of Pakistan</td>\n",
       "      <td>Jammu and Kashmir</td>\n",
       "      <td>32.565000</td>\n",
       "      <td>74.676000</td>\n",
       "      <td>0</td>\n",
       "      <td>0</td>\n",
       "      <td>0</td>\n",
       "      <td>0</td>\n",
       "      <td>0</td>\n",
       "    </tr>\n",
       "    <tr>\n",
       "      <th>...</th>\n",
       "      <td>...</td>\n",
       "      <td>...</td>\n",
       "      <td>...</td>\n",
       "      <td>...</td>\n",
       "      <td>...</td>\n",
       "      <td>...</td>\n",
       "      <td>...</td>\n",
       "      <td>...</td>\n",
       "      <td>...</td>\n",
       "      <td>...</td>\n",
       "      <td>...</td>\n",
       "      <td>...</td>\n",
       "      <td>...</td>\n",
       "      <td>...</td>\n",
       "    </tr>\n",
       "    <tr>\n",
       "      <th>16667</th>\n",
       "      <td>2021</td>\n",
       "      <td>0</td>\n",
       "      <td>Clear</td>\n",
       "      <td>1</td>\n",
       "      <td>Government of India</td>\n",
       "      <td>UNLFW</td>\n",
       "      <td>Arunachal Pradesh</td>\n",
       "      <td>26.964992</td>\n",
       "      <td>95.452438</td>\n",
       "      <td>0</td>\n",
       "      <td>2</td>\n",
       "      <td>0</td>\n",
       "      <td>0</td>\n",
       "      <td>2</td>\n",
       "    </tr>\n",
       "    <tr>\n",
       "      <th>16668</th>\n",
       "      <td>2021</td>\n",
       "      <td>0</td>\n",
       "      <td>Clear</td>\n",
       "      <td>1</td>\n",
       "      <td>Government of India</td>\n",
       "      <td>UNLFW</td>\n",
       "      <td>Meghalaya</td>\n",
       "      <td>25.344096</td>\n",
       "      <td>91.531199</td>\n",
       "      <td>0</td>\n",
       "      <td>0</td>\n",
       "      <td>0</td>\n",
       "      <td>0</td>\n",
       "      <td>0</td>\n",
       "    </tr>\n",
       "    <tr>\n",
       "      <th>16669</th>\n",
       "      <td>2021</td>\n",
       "      <td>0</td>\n",
       "      <td>Clear</td>\n",
       "      <td>1</td>\n",
       "      <td>Government of India</td>\n",
       "      <td>UNLFW</td>\n",
       "      <td>Manipur</td>\n",
       "      <td>24.223606</td>\n",
       "      <td>93.716263</td>\n",
       "      <td>5</td>\n",
       "      <td>0</td>\n",
       "      <td>2</td>\n",
       "      <td>0</td>\n",
       "      <td>7</td>\n",
       "    </tr>\n",
       "    <tr>\n",
       "      <th>16670</th>\n",
       "      <td>2021</td>\n",
       "      <td>0</td>\n",
       "      <td>Clear</td>\n",
       "      <td>1</td>\n",
       "      <td>Government of India</td>\n",
       "      <td>UNLFW</td>\n",
       "      <td>Arunachal Pradesh</td>\n",
       "      <td>26.846762</td>\n",
       "      <td>95.450524</td>\n",
       "      <td>0</td>\n",
       "      <td>3</td>\n",
       "      <td>0</td>\n",
       "      <td>0</td>\n",
       "      <td>3</td>\n",
       "    </tr>\n",
       "    <tr>\n",
       "      <th>16671</th>\n",
       "      <td>2021</td>\n",
       "      <td>0</td>\n",
       "      <td>Clear</td>\n",
       "      <td>1</td>\n",
       "      <td>Government of India</td>\n",
       "      <td>UNLFW</td>\n",
       "      <td>Nagaland</td>\n",
       "      <td>26.844785</td>\n",
       "      <td>94.957102</td>\n",
       "      <td>0</td>\n",
       "      <td>0</td>\n",
       "      <td>8</td>\n",
       "      <td>0</td>\n",
       "      <td>8</td>\n",
       "    </tr>\n",
       "  </tbody>\n",
       "</table>\n",
       "<p>16668 rows × 14 columns</p>\n",
       "</div>"
      ],
      "text/plain": [
       "       YEAR  ACTIVE YEAR CODE STATUS  TYPE OF VIOLENCE               SIDE A  \\\n",
       "0      1989            1       Clear                 1  Government of India   \n",
       "1      1990            1       Clear                 1  Government of India   \n",
       "2      1990            1       Clear                 1  Government of India   \n",
       "3      1990            1       Clear                 1  Government of India   \n",
       "4      1990            1       Clear                 1  Government of India   \n",
       "...     ...          ...         ...               ...                  ...   \n",
       "16667  2021            0       Clear                 1  Government of India   \n",
       "16668  2021            0       Clear                 1  Government of India   \n",
       "16669  2021            0       Clear                 1  Government of India   \n",
       "16670  2021            0       Clear                 1  Government of India   \n",
       "16671  2021            0       Clear                 1  Government of India   \n",
       "\n",
       "                       SIDE B               STATE   LATITUDE  LONGITUDE  \\\n",
       "0      Government of Pakistan   Jammu and Kashmir  32.565000  74.676000   \n",
       "1      Government of Pakistan   Jammu and Kashmir  32.565000  74.676000   \n",
       "2      Government of Pakistan   Jammu and Kashmir  32.565000  74.676000   \n",
       "3      Government of Pakistan   Jammu and Kashmir  33.770000  74.100000   \n",
       "4      Government of Pakistan   Jammu and Kashmir  32.565000  74.676000   \n",
       "...                       ...                 ...        ...        ...   \n",
       "16667                   UNLFW  Arunachal Pradesh   26.964992  95.452438   \n",
       "16668                   UNLFW           Meghalaya  25.344096  91.531199   \n",
       "16669                   UNLFW             Manipur  24.223606  93.716263   \n",
       "16670                   UNLFW  Arunachal Pradesh   26.846762  95.450524   \n",
       "16671                   UNLFW            Nagaland  26.844785  94.957102   \n",
       "\n",
       "       NO OF DEATHS FROM SIDE A  NO OF DEATHS FROM SIDE B  \\\n",
       "0                             0                         0   \n",
       "1                             0                         0   \n",
       "2                             1                         5   \n",
       "3                             0                         0   \n",
       "4                             0                         0   \n",
       "...                         ...                       ...   \n",
       "16667                         0                         2   \n",
       "16668                         0                         0   \n",
       "16669                         5                         0   \n",
       "16670                         0                         3   \n",
       "16671                         0                         0   \n",
       "\n",
       "       NO OF DEATHS OF CIVILIANS  NO OF UNKNOWN DEATHS  TOTAL DEATHS  \n",
       "0                              0                    25            25  \n",
       "1                              0                    17            17  \n",
       "2                              0                     0             6  \n",
       "3                              0                     0             0  \n",
       "4                              0                     0             0  \n",
       "...                          ...                   ...           ...  \n",
       "16667                          0                     0             2  \n",
       "16668                          0                     0             0  \n",
       "16669                          2                     0             7  \n",
       "16670                          0                     0             3  \n",
       "16671                          8                     0             8  \n",
       "\n",
       "[16668 rows x 14 columns]"
      ]
     },
     "execution_count": 65,
     "metadata": {},
     "output_type": "execute_result"
    }
   ],
   "source": [
    "conflict_data.dropna()"
   ]
  },
  {
   "cell_type": "markdown",
   "id": "9d6b9e78",
   "metadata": {},
   "source": [
    "Saving the CSV file"
   ]
  },
  {
   "cell_type": "code",
   "execution_count": 71,
   "id": "e11b5388",
   "metadata": {},
   "outputs": [],
   "source": [
    "conflict_data.to_csv('conflictdata.csv')"
   ]
  },
  {
   "cell_type": "code",
   "execution_count": null,
   "id": "3b319b6b",
   "metadata": {},
   "outputs": [],
   "source": []
  }
 ],
 "metadata": {
  "kernelspec": {
   "display_name": "Python 3 (ipykernel)",
   "language": "python",
   "name": "python3"
  },
  "language_info": {
   "codemirror_mode": {
    "name": "ipython",
    "version": 3
   },
   "file_extension": ".py",
   "mimetype": "text/x-python",
   "name": "python",
   "nbconvert_exporter": "python",
   "pygments_lexer": "ipython3",
   "version": "3.10.9"
  }
 },
 "nbformat": 4,
 "nbformat_minor": 5
}
