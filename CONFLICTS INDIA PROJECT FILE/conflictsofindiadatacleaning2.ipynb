{
 "cells": [
  {
   "cell_type": "code",
   "execution_count": 1,
   "id": "25ff3a50",
   "metadata": {},
   "outputs": [],
   "source": [
    "import pandas as pd\n",
    "import numpy as np"
   ]
  },
  {
   "cell_type": "code",
   "execution_count": 2,
   "id": "3b90c926",
   "metadata": {},
   "outputs": [
    {
     "data": {
      "text/html": [
       "<div>\n",
       "<style scoped>\n",
       "    .dataframe tbody tr th:only-of-type {\n",
       "        vertical-align: middle;\n",
       "    }\n",
       "\n",
       "    .dataframe tbody tr th {\n",
       "        vertical-align: top;\n",
       "    }\n",
       "\n",
       "    .dataframe thead th {\n",
       "        text-align: right;\n",
       "    }\n",
       "</style>\n",
       "<table border=\"1\" class=\"dataframe\">\n",
       "  <thead>\n",
       "    <tr style=\"text-align: right;\">\n",
       "      <th></th>\n",
       "      <th>Unnamed: 0</th>\n",
       "      <th>YEAR</th>\n",
       "      <th>ACTIVE YEAR</th>\n",
       "      <th>CODE STATUS</th>\n",
       "      <th>TYPE OF VIOLENCE</th>\n",
       "      <th>SIDE A</th>\n",
       "      <th>SIDE B</th>\n",
       "      <th>STATE</th>\n",
       "      <th>LATITUDE</th>\n",
       "      <th>LONGITUDE</th>\n",
       "      <th>NO OF DEATHS FROM SIDE A</th>\n",
       "      <th>NO OF DEATHS FROM SIDE B</th>\n",
       "      <th>NO OF DEATHS OF CIVILIANS</th>\n",
       "      <th>NO OF UNKNOWN DEATHS</th>\n",
       "      <th>TOTAL DEATHS</th>\n",
       "    </tr>\n",
       "  </thead>\n",
       "  <tbody>\n",
       "    <tr>\n",
       "      <th>0</th>\n",
       "      <td>0</td>\n",
       "      <td>1989</td>\n",
       "      <td>1</td>\n",
       "      <td>Clear</td>\n",
       "      <td>1</td>\n",
       "      <td>Government of India</td>\n",
       "      <td>Government of Pakistan</td>\n",
       "      <td>Jammu and Kashmir</td>\n",
       "      <td>32.565</td>\n",
       "      <td>74.676</td>\n",
       "      <td>0</td>\n",
       "      <td>0</td>\n",
       "      <td>0</td>\n",
       "      <td>25</td>\n",
       "      <td>25</td>\n",
       "    </tr>\n",
       "    <tr>\n",
       "      <th>1</th>\n",
       "      <td>1</td>\n",
       "      <td>1990</td>\n",
       "      <td>1</td>\n",
       "      <td>Clear</td>\n",
       "      <td>1</td>\n",
       "      <td>Government of India</td>\n",
       "      <td>Government of Pakistan</td>\n",
       "      <td>Jammu and Kashmir</td>\n",
       "      <td>32.565</td>\n",
       "      <td>74.676</td>\n",
       "      <td>0</td>\n",
       "      <td>0</td>\n",
       "      <td>0</td>\n",
       "      <td>17</td>\n",
       "      <td>17</td>\n",
       "    </tr>\n",
       "    <tr>\n",
       "      <th>2</th>\n",
       "      <td>2</td>\n",
       "      <td>1990</td>\n",
       "      <td>1</td>\n",
       "      <td>Clear</td>\n",
       "      <td>1</td>\n",
       "      <td>Government of India</td>\n",
       "      <td>Government of Pakistan</td>\n",
       "      <td>Jammu and Kashmir</td>\n",
       "      <td>32.565</td>\n",
       "      <td>74.676</td>\n",
       "      <td>1</td>\n",
       "      <td>5</td>\n",
       "      <td>0</td>\n",
       "      <td>0</td>\n",
       "      <td>6</td>\n",
       "    </tr>\n",
       "    <tr>\n",
       "      <th>3</th>\n",
       "      <td>3</td>\n",
       "      <td>1990</td>\n",
       "      <td>1</td>\n",
       "      <td>Clear</td>\n",
       "      <td>1</td>\n",
       "      <td>Government of India</td>\n",
       "      <td>Government of Pakistan</td>\n",
       "      <td>Jammu and Kashmir</td>\n",
       "      <td>33.770</td>\n",
       "      <td>74.100</td>\n",
       "      <td>0</td>\n",
       "      <td>0</td>\n",
       "      <td>0</td>\n",
       "      <td>0</td>\n",
       "      <td>0</td>\n",
       "    </tr>\n",
       "    <tr>\n",
       "      <th>4</th>\n",
       "      <td>4</td>\n",
       "      <td>1990</td>\n",
       "      <td>1</td>\n",
       "      <td>Clear</td>\n",
       "      <td>1</td>\n",
       "      <td>Government of India</td>\n",
       "      <td>Government of Pakistan</td>\n",
       "      <td>Jammu and Kashmir</td>\n",
       "      <td>32.565</td>\n",
       "      <td>74.676</td>\n",
       "      <td>0</td>\n",
       "      <td>0</td>\n",
       "      <td>0</td>\n",
       "      <td>0</td>\n",
       "      <td>0</td>\n",
       "    </tr>\n",
       "  </tbody>\n",
       "</table>\n",
       "</div>"
      ],
      "text/plain": [
       "   Unnamed: 0  YEAR  ACTIVE YEAR CODE STATUS  TYPE OF VIOLENCE  \\\n",
       "0           0  1989            1       Clear                 1   \n",
       "1           1  1990            1       Clear                 1   \n",
       "2           2  1990            1       Clear                 1   \n",
       "3           3  1990            1       Clear                 1   \n",
       "4           4  1990            1       Clear                 1   \n",
       "\n",
       "                SIDE A                  SIDE B              STATE  LATITUDE  \\\n",
       "0  Government of India  Government of Pakistan  Jammu and Kashmir    32.565   \n",
       "1  Government of India  Government of Pakistan  Jammu and Kashmir    32.565   \n",
       "2  Government of India  Government of Pakistan  Jammu and Kashmir    32.565   \n",
       "3  Government of India  Government of Pakistan  Jammu and Kashmir    33.770   \n",
       "4  Government of India  Government of Pakistan  Jammu and Kashmir    32.565   \n",
       "\n",
       "   LONGITUDE  NO OF DEATHS FROM SIDE A  NO OF DEATHS FROM SIDE B  \\\n",
       "0     74.676                         0                         0   \n",
       "1     74.676                         0                         0   \n",
       "2     74.676                         1                         5   \n",
       "3     74.100                         0                         0   \n",
       "4     74.676                         0                         0   \n",
       "\n",
       "   NO OF DEATHS OF CIVILIANS  NO OF UNKNOWN DEATHS  TOTAL DEATHS  \n",
       "0                          0                    25            25  \n",
       "1                          0                    17            17  \n",
       "2                          0                     0             6  \n",
       "3                          0                     0             0  \n",
       "4                          0                     0             0  "
      ]
     },
     "execution_count": 2,
     "metadata": {},
     "output_type": "execute_result"
    }
   ],
   "source": [
    "conflictdata2 = pd.read_csv('conflictdata.csv')\n",
    "conflictdata2.head()"
   ]
  },
  {
   "cell_type": "code",
   "execution_count": 5,
   "id": "676216ad",
   "metadata": {},
   "outputs": [
    {
     "data": {
      "text/plain": [
       "Unnamed: 0                   0\n",
       "YEAR                         0\n",
       "ACTIVE YEAR                  0\n",
       "CODE STATUS                  0\n",
       "TYPE OF VIOLENCE             0\n",
       "SIDE A                       0\n",
       "SIDE B                       0\n",
       "STATE                        0\n",
       "LATITUDE                     0\n",
       "LONGITUDE                    0\n",
       "NO OF DEATHS FROM SIDE A     0\n",
       "NO OF DEATHS FROM SIDE B     0\n",
       "NO OF DEATHS OF CIVILIANS    0\n",
       "NO OF UNKNOWN DEATHS         0\n",
       "TOTAL DEATHS                 0\n",
       "dtype: int64"
      ]
     },
     "execution_count": 5,
     "metadata": {},
     "output_type": "execute_result"
    }
   ],
   "source": [
    "conflictdata2.isnull().sum()"
   ]
  },
  {
   "cell_type": "code",
   "execution_count": 6,
   "id": "28c09ef4",
   "metadata": {},
   "outputs": [
    {
     "data": {
      "text/plain": [
       "Jammu and Kashmir     8864\n",
       "Assam                 1578\n",
       "Chhattisgarh          1325\n",
       "Jharkhand              643\n",
       "Manipur                606\n",
       "Andhra Pradesh         527\n",
       "Tripura                412\n",
       "Punjab                 387\n",
       "Bihar                  386\n",
       "West Bengal            320\n",
       "Maharashtra            312\n",
       "Nagaland               276\n",
       "Odisha                 244\n",
       "Orissa                 202\n",
       "Meghalaya              102\n",
       "Uttar Pradesh          101\n",
       "Gujarat                 86\n",
       "Delhi                   70\n",
       "Arunachal Pradesh       45\n",
       "Madhya Pradesh          34\n",
       "Karnataka               30\n",
       "Telangana               19\n",
       "Andhra Pradesh          17\n",
       "Maharashtra             15\n",
       "Rajasthan               14\n",
       "Punjab                  14\n",
       "Haryana                 11\n",
       "Kerala                   7\n",
       "Tamil Nadu               6\n",
       "Himachal Pradesh         6\n",
       "Odisha                   5\n",
       "Bihar                    2\n",
       "Mizoram                  2\n",
       "Arunachal Pradesh        2\n",
       "West Bengal              2\n",
       "Uttarakhand              1\n",
       "Mizoram                  1\n",
       "Name: STATE, dtype: int64"
      ]
     },
     "execution_count": 6,
     "metadata": {},
     "output_type": "execute_result"
    }
   ],
   "source": [
    "conflictdata2['STATE'].value_counts()"
   ]
  },
  {
   "cell_type": "markdown",
   "id": "2e562aa9",
   "metadata": {},
   "source": [
    "From the output above we can see that some of the STATE values are repeated due to incorrect spaces at the end.\n",
    "Let us run a loop to remove the extreme right spaces."
   ]
  },
  {
   "cell_type": "code",
   "execution_count": 7,
   "id": "5d29fde8",
   "metadata": {},
   "outputs": [
    {
     "name": "stderr",
     "output_type": "stream",
     "text": [
      "C:\\Users\\HP\\AppData\\Local\\Temp\\ipykernel_13888\\4037220931.py:2: SettingWithCopyWarning: \n",
      "A value is trying to be set on a copy of a slice from a DataFrame\n",
      "\n",
      "See the caveats in the documentation: https://pandas.pydata.org/pandas-docs/stable/user_guide/indexing.html#returning-a-view-versus-a-copy\n",
      "  conflictdata2['STATE'][i] = conflictdata2['STATE'][i].rstrip()\n"
     ]
    }
   ],
   "source": [
    "for i in range(conflictdata2.shape[0]):\n",
    "    conflictdata2['STATE'][i] = conflictdata2['STATE'][i].rstrip()"
   ]
  },
  {
   "cell_type": "code",
   "execution_count": 9,
   "id": "10b534e3",
   "metadata": {},
   "outputs": [
    {
     "data": {
      "text/plain": [
       "array(['Jammu and Kashmir', 'Rajasthan', 'Punjab', 'Andhra Pradesh',\n",
       "       'Madhya Pradesh', 'Maharashtra', 'Odisha', 'Orissa', 'Bihar',\n",
       "       'Karnataka', 'Jharkhand', 'Chhattisgarh', 'Uttar Pradesh',\n",
       "       'West Bengal', 'Tamil Nadu', 'Assam', 'Telangana', 'Kerala',\n",
       "       'Nagaland', 'Manipur', 'Meghalaya', 'Arunachal Pradesh', 'Tripura',\n",
       "       'Mizoram', 'Uttarakhand', 'Haryana', 'Delhi', 'Himachal Pradesh',\n",
       "       'Gujarat'], dtype=object)"
      ]
     },
     "execution_count": 9,
     "metadata": {},
     "output_type": "execute_result"
    }
   ],
   "source": [
    "conflictdata2['STATE'].unique()"
   ]
  },
  {
   "cell_type": "markdown",
   "id": "323d3acc",
   "metadata": {},
   "source": [
    "We can see that there are no repeated STATE names. The only problem remaining is that 'Odisha' and 'Orissa' refer to the same state.\n",
    "We will replace 'Orissa' with 'Odisha' in the state column."
   ]
  },
  {
   "cell_type": "code",
   "execution_count": 10,
   "id": "f497a780",
   "metadata": {},
   "outputs": [],
   "source": [
    "conflictdata2['STATE'] = conflictdata2['STATE'].replace('Orissa','Odisha')"
   ]
  },
  {
   "cell_type": "code",
   "execution_count": null,
   "id": "bfa5cd63",
   "metadata": {},
   "outputs": [],
   "source": []
  },
  {
   "cell_type": "code",
   "execution_count": 11,
   "id": "6392f27b",
   "metadata": {},
   "outputs": [
    {
     "data": {
      "text/plain": [
       "array(['Jammu and Kashmir', 'Rajasthan', 'Punjab', 'Andhra Pradesh',\n",
       "       'Madhya Pradesh', 'Maharashtra', 'Odisha', 'Bihar', 'Karnataka',\n",
       "       'Jharkhand', 'Chhattisgarh', 'Uttar Pradesh', 'West Bengal',\n",
       "       'Tamil Nadu', 'Assam', 'Telangana', 'Kerala', 'Nagaland',\n",
       "       'Manipur', 'Meghalaya', 'Arunachal Pradesh', 'Tripura', 'Mizoram',\n",
       "       'Uttarakhand', 'Haryana', 'Delhi', 'Himachal Pradesh', 'Gujarat'],\n",
       "      dtype=object)"
      ]
     },
     "execution_count": 11,
     "metadata": {},
     "output_type": "execute_result"
    }
   ],
   "source": [
    "conflictdata2['STATE'].unique()"
   ]
  },
  {
   "cell_type": "markdown",
   "id": "44bba75d",
   "metadata": {},
   "source": [
    "Now we only see Odisha "
   ]
  },
  {
   "cell_type": "code",
   "execution_count": null,
   "id": "215160f3",
   "metadata": {},
   "outputs": [],
   "source": []
  },
  {
   "cell_type": "code",
   "execution_count": null,
   "id": "6bd12e59",
   "metadata": {},
   "outputs": [],
   "source": []
  },
  {
   "cell_type": "markdown",
   "id": "9bcf4d74",
   "metadata": {},
   "source": [
    "Now let us try to add a new column 'REGION' which will divide the states into six categories,\n",
    "namely:Northern,Central,Eastern,Northeastern,Western and Southern"
   ]
  },
  {
   "cell_type": "code",
   "execution_count": 12,
   "id": "d14843a0",
   "metadata": {},
   "outputs": [],
   "source": [
    "Northern = ['Jammu and Kashmir','Himachal Pradesh','Punjab','Haryana','Rajasthan']\n",
    "Central =['Uttarakhand','Delhi','Uttar Pradesh','Chattisgarh','Madhya Pradesh']\n",
    "Eastern = ['Assam', 'Arunachal Pradesh','Sikkim','Meghalaya','Nagaland','Manipur','Tripura','Mizoram']\n",
    "Northeastern = ['Bihar','Jharkhand','West Bengal', 'Odisha']\n",
    "Western = ['Maharashtra','Gujarat']\n",
    "Southern = ['Telangana','Karnataka','Tamil Nadu','Kerala','Andhra Pradesh']\n"
   ]
  },
  {
   "cell_type": "markdown",
   "id": "0d8ce7be",
   "metadata": {},
   "source": [
    "Initially,Let us put 'A' as the value for each row corresponding to the column 'REGION'"
   ]
  },
  {
   "cell_type": "code",
   "execution_count": 13,
   "id": "4d8940a0",
   "metadata": {},
   "outputs": [],
   "source": [
    "conflictdata2['Region']=['A'for i in range(conflictdata2.shape[0])]"
   ]
  },
  {
   "cell_type": "markdown",
   "id": "216ebf98",
   "metadata": {},
   "source": [
    "Let us loop through the data frame and replace the appropriate 'REGION' values corresponding to the 'STATE' values"
   ]
  },
  {
   "cell_type": "code",
   "execution_count": 14,
   "id": "7bf5dcda",
   "metadata": {},
   "outputs": [],
   "source": [
    "for i in range(conflictdata2.shape[0]):\n",
    "    if conflictdata2['STATE'][i] in Northern:\n",
    "        conflictdata2.loc[i,'Region']='Northern'\n",
    "    if conflictdata2['STATE'][i] in Central:\n",
    "        conflictdata2.loc[i,'Region']='Central'\n",
    "       \n",
    "    if conflictdata2['STATE'][i] in Eastern:\n",
    "        conflictdata2.loc[i,'Region']='Eastern'\n",
    "    if conflictdata2['STATE'][i] in Northeastern:\n",
    "        conflictdata2.loc[i,'Region']='Northeastern'\n",
    "        \n",
    "    if conflictdata2['STATE'][i] in Western:\n",
    "        conflictdata2.loc[i,'Region']='Western'\n",
    "    if conflictdata2['STATE'][i] in Southern:\n",
    "        conflictdata2.loc[i,'Region']='Southern'\n",
    "    "
   ]
  },
  {
   "cell_type": "code",
   "execution_count": 15,
   "id": "d20b76f7",
   "metadata": {},
   "outputs": [
    {
     "data": {
      "text/plain": [
       "0        Northern\n",
       "1        Northern\n",
       "2        Northern\n",
       "3        Northern\n",
       "4        Northern\n",
       "           ...   \n",
       "16669     Eastern\n",
       "16670     Eastern\n",
       "16671     Western\n",
       "16672     Western\n",
       "16673     Western\n",
       "Name: Region, Length: 16674, dtype: object"
      ]
     },
     "execution_count": 15,
     "metadata": {},
     "output_type": "execute_result"
    }
   ],
   "source": [
    "conflictdata2['Region']"
   ]
  },
  {
   "cell_type": "markdown",
   "id": "b7017bb7",
   "metadata": {},
   "source": [
    "We can see that we have successfully put the region values."
   ]
  },
  {
   "cell_type": "code",
   "execution_count": 68,
   "id": "f18f9294",
   "metadata": {},
   "outputs": [
    {
     "data": {
      "text/plain": [
       "Northern        9296\n",
       "Eastern         3024\n",
       "Northeastern    1804\n",
       "Western         1738\n",
       "Southern         606\n",
       "Central          206\n",
       "Name: Region, dtype: int64"
      ]
     },
     "execution_count": 68,
     "metadata": {},
     "output_type": "execute_result"
    }
   ],
   "source": [
    "conflictdata2['Region'].value_counts()"
   ]
  },
  {
   "cell_type": "markdown",
   "id": "8d2f5d19",
   "metadata": {},
   "source": [
    "Almost 55% of the conflicts are from Northern region"
   ]
  },
  {
   "cell_type": "code",
   "execution_count": 16,
   "id": "5ed0d2f4",
   "metadata": {},
   "outputs": [
    {
     "data": {
      "text/plain": [
       "Unnamed: 0                   0\n",
       "YEAR                         0\n",
       "ACTIVE YEAR                  0\n",
       "CODE STATUS                  0\n",
       "TYPE OF VIOLENCE             0\n",
       "SIDE A                       0\n",
       "SIDE B                       0\n",
       "STATE                        0\n",
       "LATITUDE                     0\n",
       "LONGITUDE                    0\n",
       "NO OF DEATHS FROM SIDE A     0\n",
       "NO OF DEATHS FROM SIDE B     0\n",
       "NO OF DEATHS OF CIVILIANS    0\n",
       "NO OF UNKNOWN DEATHS         0\n",
       "TOTAL DEATHS                 0\n",
       "Region                       0\n",
       "dtype: int64"
      ]
     },
     "execution_count": 16,
     "metadata": {},
     "output_type": "execute_result"
    }
   ],
   "source": [
    "conflictdata2.isnull().sum()"
   ]
  },
  {
   "cell_type": "markdown",
   "id": "d8aaeb69",
   "metadata": {},
   "source": [
    "There are no Null values present.\n",
    "Let us remove the first column(since it is insignificant).\n",
    "Our data is ready for visualization."
   ]
  },
  {
   "cell_type": "code",
   "execution_count": 17,
   "id": "467bf4fc",
   "metadata": {},
   "outputs": [],
   "source": [
    "conflictdata2 =conflictdata2.drop(['Unnamed: 0'],axis =1)"
   ]
  },
  {
   "cell_type": "code",
   "execution_count": 18,
   "id": "b5281267",
   "metadata": {},
   "outputs": [
    {
     "data": {
      "text/html": [
       "<div>\n",
       "<style scoped>\n",
       "    .dataframe tbody tr th:only-of-type {\n",
       "        vertical-align: middle;\n",
       "    }\n",
       "\n",
       "    .dataframe tbody tr th {\n",
       "        vertical-align: top;\n",
       "    }\n",
       "\n",
       "    .dataframe thead th {\n",
       "        text-align: right;\n",
       "    }\n",
       "</style>\n",
       "<table border=\"1\" class=\"dataframe\">\n",
       "  <thead>\n",
       "    <tr style=\"text-align: right;\">\n",
       "      <th></th>\n",
       "      <th>YEAR</th>\n",
       "      <th>ACTIVE YEAR</th>\n",
       "      <th>CODE STATUS</th>\n",
       "      <th>TYPE OF VIOLENCE</th>\n",
       "      <th>SIDE A</th>\n",
       "      <th>SIDE B</th>\n",
       "      <th>STATE</th>\n",
       "      <th>LATITUDE</th>\n",
       "      <th>LONGITUDE</th>\n",
       "      <th>NO OF DEATHS FROM SIDE A</th>\n",
       "      <th>NO OF DEATHS FROM SIDE B</th>\n",
       "      <th>NO OF DEATHS OF CIVILIANS</th>\n",
       "      <th>NO OF UNKNOWN DEATHS</th>\n",
       "      <th>TOTAL DEATHS</th>\n",
       "      <th>Region</th>\n",
       "    </tr>\n",
       "  </thead>\n",
       "  <tbody>\n",
       "    <tr>\n",
       "      <th>0</th>\n",
       "      <td>1989</td>\n",
       "      <td>1</td>\n",
       "      <td>Clear</td>\n",
       "      <td>1</td>\n",
       "      <td>Government of India</td>\n",
       "      <td>Government of Pakistan</td>\n",
       "      <td>Jammu and Kashmir</td>\n",
       "      <td>32.565</td>\n",
       "      <td>74.676</td>\n",
       "      <td>0</td>\n",
       "      <td>0</td>\n",
       "      <td>0</td>\n",
       "      <td>25</td>\n",
       "      <td>25</td>\n",
       "      <td>Northern</td>\n",
       "    </tr>\n",
       "    <tr>\n",
       "      <th>1</th>\n",
       "      <td>1990</td>\n",
       "      <td>1</td>\n",
       "      <td>Clear</td>\n",
       "      <td>1</td>\n",
       "      <td>Government of India</td>\n",
       "      <td>Government of Pakistan</td>\n",
       "      <td>Jammu and Kashmir</td>\n",
       "      <td>32.565</td>\n",
       "      <td>74.676</td>\n",
       "      <td>0</td>\n",
       "      <td>0</td>\n",
       "      <td>0</td>\n",
       "      <td>17</td>\n",
       "      <td>17</td>\n",
       "      <td>Northern</td>\n",
       "    </tr>\n",
       "    <tr>\n",
       "      <th>2</th>\n",
       "      <td>1990</td>\n",
       "      <td>1</td>\n",
       "      <td>Clear</td>\n",
       "      <td>1</td>\n",
       "      <td>Government of India</td>\n",
       "      <td>Government of Pakistan</td>\n",
       "      <td>Jammu and Kashmir</td>\n",
       "      <td>32.565</td>\n",
       "      <td>74.676</td>\n",
       "      <td>1</td>\n",
       "      <td>5</td>\n",
       "      <td>0</td>\n",
       "      <td>0</td>\n",
       "      <td>6</td>\n",
       "      <td>Northern</td>\n",
       "    </tr>\n",
       "    <tr>\n",
       "      <th>3</th>\n",
       "      <td>1990</td>\n",
       "      <td>1</td>\n",
       "      <td>Clear</td>\n",
       "      <td>1</td>\n",
       "      <td>Government of India</td>\n",
       "      <td>Government of Pakistan</td>\n",
       "      <td>Jammu and Kashmir</td>\n",
       "      <td>33.770</td>\n",
       "      <td>74.100</td>\n",
       "      <td>0</td>\n",
       "      <td>0</td>\n",
       "      <td>0</td>\n",
       "      <td>0</td>\n",
       "      <td>0</td>\n",
       "      <td>Northern</td>\n",
       "    </tr>\n",
       "    <tr>\n",
       "      <th>4</th>\n",
       "      <td>1990</td>\n",
       "      <td>1</td>\n",
       "      <td>Clear</td>\n",
       "      <td>1</td>\n",
       "      <td>Government of India</td>\n",
       "      <td>Government of Pakistan</td>\n",
       "      <td>Jammu and Kashmir</td>\n",
       "      <td>32.565</td>\n",
       "      <td>74.676</td>\n",
       "      <td>0</td>\n",
       "      <td>0</td>\n",
       "      <td>0</td>\n",
       "      <td>0</td>\n",
       "      <td>0</td>\n",
       "      <td>Northern</td>\n",
       "    </tr>\n",
       "  </tbody>\n",
       "</table>\n",
       "</div>"
      ],
      "text/plain": [
       "   YEAR  ACTIVE YEAR CODE STATUS  TYPE OF VIOLENCE               SIDE A  \\\n",
       "0  1989            1       Clear                 1  Government of India   \n",
       "1  1990            1       Clear                 1  Government of India   \n",
       "2  1990            1       Clear                 1  Government of India   \n",
       "3  1990            1       Clear                 1  Government of India   \n",
       "4  1990            1       Clear                 1  Government of India   \n",
       "\n",
       "                   SIDE B              STATE  LATITUDE  LONGITUDE  \\\n",
       "0  Government of Pakistan  Jammu and Kashmir    32.565     74.676   \n",
       "1  Government of Pakistan  Jammu and Kashmir    32.565     74.676   \n",
       "2  Government of Pakistan  Jammu and Kashmir    32.565     74.676   \n",
       "3  Government of Pakistan  Jammu and Kashmir    33.770     74.100   \n",
       "4  Government of Pakistan  Jammu and Kashmir    32.565     74.676   \n",
       "\n",
       "   NO OF DEATHS FROM SIDE A  NO OF DEATHS FROM SIDE B  \\\n",
       "0                         0                         0   \n",
       "1                         0                         0   \n",
       "2                         1                         5   \n",
       "3                         0                         0   \n",
       "4                         0                         0   \n",
       "\n",
       "   NO OF DEATHS OF CIVILIANS  NO OF UNKNOWN DEATHS  TOTAL DEATHS    Region  \n",
       "0                          0                    25            25  Northern  \n",
       "1                          0                    17            17  Northern  \n",
       "2                          0                     0             6  Northern  \n",
       "3                          0                     0             0  Northern  \n",
       "4                          0                     0             0  Northern  "
      ]
     },
     "execution_count": 18,
     "metadata": {},
     "output_type": "execute_result"
    }
   ],
   "source": [
    "conflictdata2.head()"
   ]
  },
  {
   "cell_type": "markdown",
   "id": "8c41b5b5",
   "metadata": {},
   "source": [
    "Let us save the data"
   ]
  },
  {
   "cell_type": "code",
   "execution_count": 72,
   "id": "f6b904a8",
   "metadata": {},
   "outputs": [],
   "source": [
    "conflictdata2.to_csv('conflict_final_data.csv')"
   ]
  },
  {
   "cell_type": "markdown",
   "id": "63cc1e49",
   "metadata": {},
   "source": [
    "Let us do the visualization in powerBI."
   ]
  },
  {
   "cell_type": "code",
   "execution_count": null,
   "id": "47edc718",
   "metadata": {},
   "outputs": [],
   "source": []
  }
 ],
 "metadata": {
  "kernelspec": {
   "display_name": "Python 3 (ipykernel)",
   "language": "python",
   "name": "python3"
  },
  "language_info": {
   "codemirror_mode": {
    "name": "ipython",
    "version": 3
   },
   "file_extension": ".py",
   "mimetype": "text/x-python",
   "name": "python",
   "nbconvert_exporter": "python",
   "pygments_lexer": "ipython3",
   "version": "3.10.9"
  }
 },
 "nbformat": 4,
 "nbformat_minor": 5
}
